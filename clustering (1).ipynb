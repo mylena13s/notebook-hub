{
  "nbformat": 4,
  "nbformat_minor": 0,
  "metadata": {
    "colab": {
      "provenance": []
    },
    "kernelspec": {
      "name": "python3",
      "display_name": "Python 3"
    },
    "language_info": {
      "name": "python"
    }
  },
  "cells": [
    {
      "cell_type": "markdown",
      "source": [
        "Exemplos básicos do conteúdo do curso: Machine Learning com Spark e Pyspark."
      ],
      "metadata": {
        "id": "BK1cNmww_y00"
      }
    },
    {
      "cell_type": "code",
      "execution_count": 3,
      "metadata": {
        "id": "xoXNG5Bt-c8z"
      },
      "outputs": [],
      "source": [
        "from sklearn.cluster import KMeans\n",
        "\n",
        "# kmeans = KMeans(n_clusters=3)\n",
        "# kmeans.fit(dados)\n",
        "# labels = kmeans.predict(dados)\n",
        "\n",
        "# K-Means: Um algoritmos que agrupa os dados em K clusters, minimizando a distância entre os pontos de um cluster e o seu centróide"
      ]
    },
    {
      "cell_type": "code",
      "source": [
        "# Cálculo de Silhouette Score:\n",
        "\n",
        "from sklearn.metrics import silhouette_score\n",
        "\n",
        "score = silhouette_score(dados, labels)\n",
        "\n",
        "# Métricas para Avaliar Clustering / Inércia (K-Means): Soma das distâncias ao quadrado de cada ponto até o centróide do seu cluster."
      ],
      "metadata": {
        "id": "v3D5ly7B_YRZ"
      },
      "execution_count": null,
      "outputs": []
    },
    {
      "cell_type": "code",
      "source": [
        "# Pré-processamento antes de Clustering\n",
        "\n",
        "from sklearn.preprocessing import StandardScaler\n",
        "\n",
        "scaler = StandardScaler()\n",
        "dados_normalizados = scaler.fit_transform(dados)\n"
      ],
      "metadata": {
        "id": "tryeAbdv_mpg"
      },
      "execution_count": null,
      "outputs": []
    }
  ]
}