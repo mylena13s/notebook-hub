{
 "cells": [
  {
   "cell_type": "code",
   "execution_count": 0,
   "metadata": {
    "application/vnd.databricks.v1+cell": {
     "cellMetadata": {
      "byteLimit": 2048000,
      "rowLimit": 10000
     },
     "inputWidgets": {},
     "nuid": "4b8c3452-0eb9-4ee0-9676-b6d210c30305",
     "showTitle": false,
     "title": ""
    }
   },
   "outputs": [],
   "source": [
    "import pyspark\n",
    "from pyspark.sql import SparkSession \n",
    "spark = SparkSession.builder.appName('Imputer').getOrCreate()\n",
    "# /FileStore/tables/Carros.csv"
   ]
  },
  {
   "cell_type": "code",
   "execution_count": 0,
   "metadata": {
    "application/vnd.databricks.v1+cell": {
     "cellMetadata": {
      "byteLimit": 2048000,
      "rowLimit": 10000
     },
     "inputWidgets": {},
     "nuid": "3bbe7289-7f8d-4055-9306-c8f94e0d180f",
     "showTitle": false,
     "title": ""
    }
   },
   "outputs": [],
   "source": [
    "from pyspark.ml.feature import Imputer"
   ]
  },
  {
   "cell_type": "code",
   "execution_count": 0,
   "metadata": {
    "application/vnd.databricks.v1+cell": {
     "cellMetadata": {
      "byteLimit": 2048000,
      "rowLimit": 10000
     },
     "inputWidgets": {},
     "nuid": "5f151102-1915-4883-af46-c5328c61c384",
     "showTitle": false,
     "title": ""
    }
   },
   "outputs": [
    {
     "output_type": "stream",
     "name": "stdout",
     "output_type": "stream",
     "text": [
      "+-------+---------+-----------+---------------+----+-----+---------+-----------+-------+-----------+---+\n|Consumo|Cilindros|Cilindradas|RelEixoTraseiro|Peso|Tempo|TipoMotor|Transmissao|Marchas|Carburadors| HP|\n+-------+---------+-----------+---------------+----+-----+---------+-----------+-------+-----------+---+\n|     21|        6|        160|             39| 262| 1646|        0|          1|      4|          4|110|\n|     21|        6|        160|             39|2875| 1702|        0|          1|      4|          4|110|\n|    228|        4|        108|            385| 232| 1861|        1|          1|      4|          1| 93|\n|    214|        6|        258|            308|3215| 1944|        1|          0|      3|          1|110|\n|    187|        8|        360|            315| 344| 1702|        0|          0|      3|          2|175|\n|    181|        6|        225|            276| 346| 2022|        1|          0|      3|          1|105|\n|    143|        8|        360|            321| 357| 1584|        0|          0|      3|          4|245|\n|    244|        4|       1467|            369| 319|   20|        1|          0|      4|          2| 62|\n|    228|        4|       1408|            392| 315|  229|        1|          0|      4|          2| 95|\n|    192|        6|       1676|            392| 344|  183|        1|          0|      4|          4|123|\n|    178|        6|       1676|            392| 344|  189|        1|          0|      4|          4|123|\n|    164|        8|       2758|            307| 407|  174|        0|          0|      3|          3|180|\n|    173|        8|       2758|            307| 373|  176|        0|          0|      3|          3|180|\n|    152|        8|       2758|            307| 378|   18|        0|          0|      3|          3|180|\n|    104|        8|        472|            293| 525| 1798|        0|          0|      3|          4|205|\n|    104|        8|        460|              3|5424| 1782|        0|          0|      3|          4|215|\n|    147|        8|        440|            323|5345| 1742|        0|          0|      3|          4|230|\n|    324|        4|        787|            408|  22| 1947|        1|          1|      4|          1| 66|\n|    304|        4|        757|            493|1615| 1852|        1|          1|      4|          2| 52|\n|    339|        4|        711|            422|1835|  199|        1|          1|      4|          1| 65|\n+-------+---------+-----------+---------------+----+-----+---------+-----------+-------+-----------+---+\nonly showing top 20 rows\n\n"
     ]
    }
   ],
   "source": [
    "carros = spark.read.csv('/FileStore/tables/Carros.csv', header=True, inferSchema=True, sep=';' )\n",
    "carros.show()"
   ]
  },
  {
   "cell_type": "code",
   "execution_count": 0,
   "metadata": {
    "application/vnd.databricks.v1+cell": {
     "cellMetadata": {
      "byteLimit": 2048000,
      "rowLimit": 10000
     },
     "inputWidgets": {},
     "nuid": "c5565550-d761-4a4e-a631-0cebf7ac691a",
     "showTitle": false,
     "title": ""
    }
   },
   "outputs": [
    {
     "output_type": "stream",
     "name": "stdout",
     "output_type": "stream",
     "text": [
      "+---------------+--------+\n|novaCilindradas|novaPeso|\n+---------------+--------+\n|            160|     262|\n|            160|    2875|\n|            108|     232|\n|            258|    3215|\n|            360|     344|\n|            225|     346|\n|            360|     357|\n|           1467|     319|\n|           1408|     315|\n|           1676|     344|\n|           1676|     344|\n|           2758|     407|\n|           2758|     373|\n|           2758|     378|\n|            472|     525|\n|            460|    5424|\n|            440|    5345|\n|            787|      22|\n|            757|    1615|\n|            711|    1835|\n+---------------+--------+\nonly showing top 20 rows\n\n"
     ]
    }
   ],
   "source": [
    "imput = Imputer(inputCols=['Cilindradas','Peso'], outputCols=['novaCilindradas', 'novaPeso'])\n",
    "modelo = imput.fit(carros)\n",
    "carros = modelo.transform(carros)\n",
    "carros.select('novaCilindradas', 'novaPeso').show()"
   ]
  },
  {
   "cell_type": "code",
   "execution_count": 0,
   "metadata": {
    "application/vnd.databricks.v1+cell": {
     "cellMetadata": {
      "byteLimit": 2048000,
      "rowLimit": 10000
     },
     "inputWidgets": {},
     "nuid": "ef70c4ff-ae63-4c9f-98ad-cd0e80f068d6",
     "showTitle": false,
     "title": ""
    }
   },
   "outputs": [
    {
     "output_type": "stream",
     "name": "stdout",
     "output_type": "stream",
     "text": [
      "+---------------+--------+\n|novaCilindradas|novaPeso|\n+---------------+--------+\n|            160|     262|\n|            160|    2875|\n|            108|     232|\n|            258|    3215|\n|            360|     344|\n|            225|     346|\n|            360|     357|\n|           1467|     319|\n|           1408|     315|\n|           1676|     344|\n|           1676|     344|\n|           2758|     407|\n|           2758|     373|\n|           2758|     378|\n|            472|     525|\n|            460|    5424|\n|            440|    5345|\n|            787|      22|\n|            757|    1615|\n|            711|    1835|\n+---------------+--------+\nonly showing top 20 rows\n\n"
     ]
    }
   ],
   "source": [
    "imput = Imputer(inputCols=['Cilindradas', 'Peso'], outputCols=['novaCilindradas', 'novaPeso'])\n",
    "modelo = imput.fit(carros)\n",
    "carros = modelo.transform(carros)\n",
    "carros.select('novaCilindradas', 'novaPeso').show()"
   ]
  }
 ],
 "metadata": {
  "application/vnd.databricks.v1+notebook": {
   "dashboards": [],
   "environmentMetadata": null,
   "language": "python",
   "notebookMetadata": {
    "pythonIndentUnit": 4
   },
   "notebookName": "TesteInicialSpark",
   "widgets": {}
  }
 },
 "nbformat": 4,
 "nbformat_minor": 0
}
