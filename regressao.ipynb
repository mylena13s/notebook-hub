{
  "nbformat": 4,
  "nbformat_minor": 0,
  "metadata": {
    "colab": {
      "provenance": []
    },
    "kernelspec": {
      "name": "python3",
      "display_name": "Python 3"
    },
    "language_info": {
      "name": "python"
    }
  },
  "cells": [
    {
      "cell_type": "markdown",
      "source": [
        "Regressão Linear"
      ],
      "metadata": {
        "id": "928Xa4AFc1Q0"
      }
    },
    {
      "cell_type": "code",
      "execution_count": 1,
      "metadata": {
        "colab": {
          "base_uri": "https://localhost:8080/"
        },
        "id": "2dW3lxhVJcoH",
        "outputId": "cc9baaea-832e-49e0-bc18-808070049132"
      },
      "outputs": [
        {
          "output_type": "stream",
          "name": "stdout",
          "text": [
            "[12.]\n"
          ]
        }
      ],
      "source": [
        "from sklearn.linear_model import LinearRegression\n",
        "\n",
        "# Define os dados de entrada e saída\n",
        "X = [[1], [2], [3], [4], [5]]  # Variável independente\n",
        "y = [2, 4, 6, 8, 10]           # Variável dependente\n",
        "\n",
        "# Cria o modelo ajustando aos dados\n",
        "model = LinearRegression()\n",
        "model.fit(X, y)\n",
        "\n",
        "# Fazendo uma previsão\n",
        "y_pred = model.predict([[6]])\n",
        "print(y_pred)  # Saída: [12]\n"
      ]
    },
    {
      "cell_type": "markdown",
      "source": [
        "Regressão Logistica"
      ],
      "metadata": {
        "id": "waqy7XwYc5rC"
      }
    },
    {
      "cell_type": "code",
      "source": [
        "import numpy as np\n",
        "\n",
        "# Define os coeficientes da regressão\n",
        "beta_0 = 1.5  # Intercepto\n",
        "beta_1 = 0.05  # Coeficiente da variável idade\n",
        "\n",
        "# Define a idade de exemplo\n",
        "idade = 30\n",
        "\n",
        "# Calcula o valor linear (beta_0 + beta_1 * idade)\n",
        "linear_value = beta_0 + beta_1 * idade\n",
        "\n",
        "# Calcula a probabilidade usando a função sigmoide\n",
        "probabilidade = 1 / (1 + np.exp(-linear_value))\n",
        "\n",
        "# Resultado da probabilidade\n",
        "print(f\"A probabilidade de compra para uma pessoa de {idade} anos é {probabilidade * 100:.2f}%\")\n"
      ],
      "metadata": {
        "colab": {
          "base_uri": "https://localhost:8080/"
        },
        "id": "MCW1Iq69c8ZC",
        "outputId": "6e6d5446-518b-4cca-e1f2-763797e3042f"
      },
      "execution_count": 2,
      "outputs": [
        {
          "output_type": "stream",
          "name": "stdout",
          "text": [
            "A probabilidade de compra para uma pessoa de 30 anos é 95.26%\n"
          ]
        }
      ]
    }
  ]
}